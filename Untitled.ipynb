{
 "cells": [
  {
   "cell_type": "code",
   "execution_count": 91,
   "id": "df076696",
   "metadata": {},
   "outputs": [],
   "source": [
    "import pandas as pd\n",
    "import numpy as np\n",
    "import seaborn as sns\n",
    "import matplotlib.pyplot as plt\n",
    "import warnings\n",
    "warnings.filterwarnings('ignore')"
   ]
  },
  {
   "cell_type": "code",
   "execution_count": 92,
   "id": "4e80733e",
   "metadata": {},
   "outputs": [],
   "source": [
    "df = pd.read_csv('Breast_Cancer.csv')"
   ]
  },
  {
   "cell_type": "code",
   "execution_count": 93,
   "id": "1f8088a2",
   "metadata": {
    "scrolled": true
   },
   "outputs": [
    {
     "name": "stdout",
     "output_type": "stream",
     "text": [
      "<class 'pandas.core.frame.DataFrame'>\n",
      "RangeIndex: 286 entries, 0 to 285\n",
      "Data columns (total 10 columns):\n",
      " #   Column       Non-Null Count  Dtype \n",
      "---  ------       --------------  ----- \n",
      " 0   class        286 non-null    object\n",
      " 1   age_group    286 non-null    object\n",
      " 2   menopause    286 non-null    object\n",
      " 3   tumor-size   286 non-null    object\n",
      " 4   inv-nodes    286 non-null    object\n",
      " 5    node-caps   286 non-null    object\n",
      " 6   deg-malig    286 non-null    int64 \n",
      " 7   breast       286 non-null    object\n",
      " 8   breast-quad  286 non-null    object\n",
      " 9   irradiat     286 non-null    object\n",
      "dtypes: int64(1), object(9)\n",
      "memory usage: 22.5+ KB\n"
     ]
    }
   ],
   "source": [
    "df.info()"
   ]
  },
  {
   "cell_type": "code",
   "execution_count": 94,
   "id": "2b0b200a",
   "metadata": {},
   "outputs": [
    {
     "data": {
      "text/html": [
       "<div>\n",
       "<style scoped>\n",
       "    .dataframe tbody tr th:only-of-type {\n",
       "        vertical-align: middle;\n",
       "    }\n",
       "\n",
       "    .dataframe tbody tr th {\n",
       "        vertical-align: top;\n",
       "    }\n",
       "\n",
       "    .dataframe thead th {\n",
       "        text-align: right;\n",
       "    }\n",
       "</style>\n",
       "<table border=\"1\" class=\"dataframe\">\n",
       "  <thead>\n",
       "    <tr style=\"text-align: right;\">\n",
       "      <th></th>\n",
       "      <th>class</th>\n",
       "      <th>age_group</th>\n",
       "      <th>menopause</th>\n",
       "      <th>tumor-size</th>\n",
       "      <th>inv-nodes</th>\n",
       "      <th>node-caps</th>\n",
       "      <th>deg-malig</th>\n",
       "      <th>breast</th>\n",
       "      <th>breast-quad</th>\n",
       "      <th>irradiat</th>\n",
       "    </tr>\n",
       "  </thead>\n",
       "  <tbody>\n",
       "    <tr>\n",
       "      <th>0</th>\n",
       "      <td>no-recurrence-events</td>\n",
       "      <td>30-39</td>\n",
       "      <td>premeno</td>\n",
       "      <td>30-34</td>\n",
       "      <td>0-2</td>\n",
       "      <td>no</td>\n",
       "      <td>3</td>\n",
       "      <td>left</td>\n",
       "      <td>left_low</td>\n",
       "      <td>no</td>\n",
       "    </tr>\n",
       "    <tr>\n",
       "      <th>1</th>\n",
       "      <td>no-recurrence-events</td>\n",
       "      <td>40-49</td>\n",
       "      <td>premeno</td>\n",
       "      <td>20-24</td>\n",
       "      <td>0-2</td>\n",
       "      <td>no</td>\n",
       "      <td>2</td>\n",
       "      <td>right</td>\n",
       "      <td>right_up</td>\n",
       "      <td>no</td>\n",
       "    </tr>\n",
       "    <tr>\n",
       "      <th>2</th>\n",
       "      <td>no-recurrence-events</td>\n",
       "      <td>40-49</td>\n",
       "      <td>premeno</td>\n",
       "      <td>20-24</td>\n",
       "      <td>0-2</td>\n",
       "      <td>no</td>\n",
       "      <td>2</td>\n",
       "      <td>left</td>\n",
       "      <td>left_low</td>\n",
       "      <td>no</td>\n",
       "    </tr>\n",
       "    <tr>\n",
       "      <th>3</th>\n",
       "      <td>no-recurrence-events</td>\n",
       "      <td>60-69</td>\n",
       "      <td>ge40</td>\n",
       "      <td>15-19</td>\n",
       "      <td>0-2</td>\n",
       "      <td>no</td>\n",
       "      <td>2</td>\n",
       "      <td>right</td>\n",
       "      <td>left_up</td>\n",
       "      <td>no</td>\n",
       "    </tr>\n",
       "    <tr>\n",
       "      <th>4</th>\n",
       "      <td>no-recurrence-events</td>\n",
       "      <td>40-49</td>\n",
       "      <td>premeno</td>\n",
       "      <td>0-4</td>\n",
       "      <td>0-2</td>\n",
       "      <td>no</td>\n",
       "      <td>2</td>\n",
       "      <td>right</td>\n",
       "      <td>right_low</td>\n",
       "      <td>no</td>\n",
       "    </tr>\n",
       "  </tbody>\n",
       "</table>\n",
       "</div>"
      ],
      "text/plain": [
       "                  class age_group menopause tumor-size inv-nodes  node-caps  \\\n",
       "0  no-recurrence-events     30-39   premeno      30-34       0-2         no   \n",
       "1  no-recurrence-events     40-49   premeno      20-24       0-2         no   \n",
       "2  no-recurrence-events     40-49   premeno      20-24       0-2         no   \n",
       "3  no-recurrence-events     60-69      ge40      15-19       0-2         no   \n",
       "4  no-recurrence-events     40-49   premeno        0-4       0-2         no   \n",
       "\n",
       "   deg-malig breast breast-quad irradiat  \n",
       "0          3   left    left_low       no  \n",
       "1          2  right    right_up       no  \n",
       "2          2   left    left_low       no  \n",
       "3          2  right     left_up       no  \n",
       "4          2  right   right_low       no  "
      ]
     },
     "execution_count": 94,
     "metadata": {},
     "output_type": "execute_result"
    }
   ],
   "source": [
    "df.head()"
   ]
  },
  {
   "cell_type": "markdown",
   "id": "96c122e9",
   "metadata": {},
   "source": [
    "### EDA"
   ]
  },
  {
   "cell_type": "code",
   "execution_count": 95,
   "id": "a62d5f05",
   "metadata": {},
   "outputs": [
    {
     "data": {
      "text/plain": [
       "array(['no-recurrence-events', 'recurrence-events'], dtype=object)"
      ]
     },
     "execution_count": 95,
     "metadata": {},
     "output_type": "execute_result"
    }
   ],
   "source": [
    "df['class'].unique()"
   ]
  },
  {
   "cell_type": "code",
   "execution_count": 96,
   "id": "b823e23f",
   "metadata": {},
   "outputs": [],
   "source": [
    "classEvent = {'no-recurrence-events':0, 'recurrence-events':1}\n",
    "df['class'] = df['class'].map(classEvent)"
   ]
  },
  {
   "cell_type": "code",
   "execution_count": 97,
   "id": "9af8ae1e",
   "metadata": {},
   "outputs": [
    {
     "data": {
      "text/plain": [
       "array(['30-39', '40-49', '60-69', '50-59', '70-79', '20-29'], dtype=object)"
      ]
     },
     "execution_count": 97,
     "metadata": {},
     "output_type": "execute_result"
    }
   ],
   "source": [
    "df['age_group'].unique()"
   ]
  },
  {
   "cell_type": "code",
   "execution_count": 98,
   "id": "143bc30d",
   "metadata": {},
   "outputs": [],
   "source": [
    "age = {'20-29':1, '40-49':2, '50-59':3, '60-69':4, '70-79':5}\n",
    "df['age_group'] = df['age_group'].map(age)"
   ]
  },
  {
   "cell_type": "code",
   "execution_count": 99,
   "id": "920e4e84",
   "metadata": {},
   "outputs": [
    {
     "data": {
      "text/plain": [
       "array(['premeno', 'ge40', 'lt40'], dtype=object)"
      ]
     },
     "execution_count": 99,
     "metadata": {},
     "output_type": "execute_result"
    }
   ],
   "source": [
    "df['menopause'].unique()"
   ]
  },
  {
   "cell_type": "code",
   "execution_count": 100,
   "id": "e1568ec3",
   "metadata": {},
   "outputs": [],
   "source": [
    "meno = {'premeno':1, 'ge40':2, 'lt40':3}\n",
    "df['menopause'] = df['menopause'].map(meno)"
   ]
  },
  {
   "cell_type": "code",
   "execution_count": 101,
   "id": "6ae4e4b8",
   "metadata": {},
   "outputs": [
    {
     "data": {
      "text/plain": [
       "array(['30-34', '20-24', '15-19', '0-4', '25-29', '50-54', '14-Oct',\n",
       "       '40-44', '35-39', '9-May', '45-49'], dtype=object)"
      ]
     },
     "execution_count": 101,
     "metadata": {},
     "output_type": "execute_result"
    }
   ],
   "source": [
    "df['tumor-size'].unique()"
   ]
  },
  {
   "cell_type": "code",
   "execution_count": 102,
   "id": "b0673f47",
   "metadata": {},
   "outputs": [],
   "source": [
    "size = {'0-4':1, '9-May':2, '14-Oct':3, '15-19':4, '20-24':5, '25-29':6, '30-34':7, '35-39':8, '40-44':9, \n",
    "        '45-49':10, '50-54':11}\n",
    "df['tumor-size'] = df['tumor-size'].map(size)"
   ]
  },
  {
   "cell_type": "code",
   "execution_count": 103,
   "id": "70fe4855",
   "metadata": {},
   "outputs": [
    {
     "data": {
      "text/plain": [
       "array(['0-2', '8-Jun', '11-Sep', '5-Mar', '15-17', '14-Dec', '24-26'],\n",
       "      dtype=object)"
      ]
     },
     "execution_count": 103,
     "metadata": {},
     "output_type": "execute_result"
    }
   ],
   "source": [
    "df['inv-nodes'].unique()"
   ]
  },
  {
   "cell_type": "code",
   "execution_count": 104,
   "id": "0e3ab2c0",
   "metadata": {},
   "outputs": [],
   "source": [
    "inv = {'0-2':1, '8-Jun':2, '11-Sep':3, '5-Mar':4, '15-17':5, '14-Dec':6, '24-26':7}\n",
    "df['inv-nodes'] = df['inv-nodes'].map(inv)"
   ]
  },
  {
   "cell_type": "code",
   "execution_count": 105,
   "id": "2878923e",
   "metadata": {},
   "outputs": [
    {
     "data": {
      "text/plain": [
       "array(['no', 'yes', '?'], dtype=object)"
      ]
     },
     "execution_count": 105,
     "metadata": {},
     "output_type": "execute_result"
    }
   ],
   "source": [
    "df[' node-caps'].unique()"
   ]
  },
  {
   "cell_type": "code",
   "execution_count": 106,
   "id": "5c50d036",
   "metadata": {},
   "outputs": [],
   "source": [
    "node = {'no':1, 'yes':2, '?':0}\n",
    "df[' node-caps'] = df['inv-nodes'].map(node)"
   ]
  },
  {
   "cell_type": "code",
   "execution_count": 107,
   "id": "4471bdee",
   "metadata": {},
   "outputs": [
    {
     "data": {
      "text/plain": [
       "array(['left', 'right'], dtype=object)"
      ]
     },
     "execution_count": 107,
     "metadata": {},
     "output_type": "execute_result"
    }
   ],
   "source": [
    "df['breast'].unique()"
   ]
  },
  {
   "cell_type": "code",
   "execution_count": 108,
   "id": "5da16f9e",
   "metadata": {},
   "outputs": [],
   "source": [
    "breast = {'left':1, 'right':2}\n",
    "df['breast'] = df['breast'].map(breast)"
   ]
  },
  {
   "cell_type": "code",
   "execution_count": 109,
   "id": "72b5ace1",
   "metadata": {},
   "outputs": [
    {
     "data": {
      "text/plain": [
       "array(['left_low', 'right_up', 'left_up', 'right_low', 'central', '?'],\n",
       "      dtype=object)"
      ]
     },
     "execution_count": 109,
     "metadata": {},
     "output_type": "execute_result"
    }
   ],
   "source": [
    "df['breast-quad'].unique()"
   ]
  },
  {
   "cell_type": "code",
   "execution_count": 110,
   "id": "13d08760",
   "metadata": {},
   "outputs": [],
   "source": [
    "loc = {'left_low':1, 'right_up':2, 'left_up':3, 'right_low':4, 'central':5, '?':0}\n",
    "df['breast-quad'] = df['breast-quad'].map(loc)"
   ]
  },
  {
   "cell_type": "code",
   "execution_count": 111,
   "id": "ccffc0b0",
   "metadata": {},
   "outputs": [
    {
     "data": {
      "text/plain": [
       "array(['no', 'yes'], dtype=object)"
      ]
     },
     "execution_count": 111,
     "metadata": {},
     "output_type": "execute_result"
    }
   ],
   "source": [
    "df['irradiat'].unique()"
   ]
  },
  {
   "cell_type": "code",
   "execution_count": 112,
   "id": "bc74d93a",
   "metadata": {},
   "outputs": [],
   "source": [
    "irr =  {'no':1, 'yes':2}\n",
    "df['irradiat'] = df['irradiat'].map(irr)"
   ]
  },
  {
   "cell_type": "code",
   "execution_count": 113,
   "id": "ac353271",
   "metadata": {},
   "outputs": [
    {
     "data": {
      "text/plain": [
       "class            0\n",
       "age_group       36\n",
       "menopause        0\n",
       "tumor-size       0\n",
       "inv-nodes        0\n",
       " node-caps     286\n",
       "deg-malig        0\n",
       "breast           0\n",
       "breast-quad      0\n",
       "irradiat         0\n",
       "dtype: int64"
      ]
     },
     "execution_count": 113,
     "metadata": {},
     "output_type": "execute_result"
    }
   ],
   "source": [
    "df.isnull().sum()"
   ]
  },
  {
   "cell_type": "code",
   "execution_count": 114,
   "id": "24bbf267",
   "metadata": {
    "scrolled": false
   },
   "outputs": [
    {
     "data": {
      "text/plain": [
       "<AxesSubplot:>"
      ]
     },
     "execution_count": 114,
     "metadata": {},
     "output_type": "execute_result"
    },
    {
     "data": {
      "image/png": "[encoded data removed]",
      "text/plain": [
       "<Figure size 864x504 with 2 Axes>"
      ]
     },
     "metadata": {
      "needs_background": "light"
     },
     "output_type": "display_data"
    }
   ],
   "source": [
    "plt.figure(figsize=(12,7))\n",
    "sns.heatmap(df.isnull())"
   ]
  },
  {
   "cell_type": "markdown",
   "id": "0c7426ec",
   "metadata": {},
   "source": [
    "### Mean"
   ]
  },
  {
   "cell_type": "code",
   "execution_count": 115,
   "id": "87548c4a",
   "metadata": {},
   "outputs": [],
   "source": [
    "df['age_group'].fillna(df['age_group'].mean(),inplace=True) "
   ]
  },
  {
   "cell_type": "code",
   "execution_count": 116,
   "id": "4fa5fc91",
   "metadata": {},
   "outputs": [],
   "source": [
    "df = df.drop([' node-caps'], axis=1)"
   ]
  },
  {
   "cell_type": "code",
   "execution_count": 117,
   "id": "106a17aa",
   "metadata": {},
   "outputs": [
    {
     "data": {
      "text/plain": [
       "class          0\n",
       "age_group      0\n",
       "menopause      0\n",
       "tumor-size     0\n",
       "inv-nodes      0\n",
       "deg-malig      0\n",
       "breast         0\n",
       "breast-quad    0\n",
       "irradiat       0\n",
       "dtype: int64"
      ]
     },
     "execution_count": 117,
     "metadata": {},
     "output_type": "execute_result"
    }
   ],
   "source": [
    "df.isnull().sum()"
   ]
  },
  {
   "cell_type": "code",
   "execution_count": 118,
   "id": "cd1cbd18",
   "metadata": {},
   "outputs": [
    {
     "name": "stdout",
     "output_type": "stream",
     "text": [
      "<class 'pandas.core.frame.DataFrame'>\n",
      "RangeIndex: 286 entries, 0 to 285\n",
      "Data columns (total 9 columns):\n",
      " #   Column       Non-Null Count  Dtype  \n",
      "---  ------       --------------  -----  \n",
      " 0   class        286 non-null    int64  \n",
      " 1   age_group    286 non-null    float64\n",
      " 2   menopause    286 non-null    int64  \n",
      " 3   tumor-size   286 non-null    int64  \n",
      " 4   inv-nodes    286 non-null    int64  \n",
      " 5   deg-malig    286 non-null    int64  \n",
      " 6   breast       286 non-null    int64  \n",
      " 7   breast-quad  286 non-null    int64  \n",
      " 8   irradiat     286 non-null    int64  \n",
      "dtypes: float64(1), int64(8)\n",
      "memory usage: 20.2 KB\n"
     ]
    }
   ],
   "source": [
    "df.info()"
   ]
  },
  {
   "cell_type": "code",
   "execution_count": 119,
   "id": "52de73de",
   "metadata": {
    "scrolled": true
   },
   "outputs": [
    {
     "data": {
      "text/html": [
       "<div>\n",
       "<style scoped>\n",
       "    .dataframe tbody tr th:only-of-type {\n",
       "        vertical-align: middle;\n",
       "    }\n",
       "\n",
       "    .dataframe tbody tr th {\n",
       "        vertical-align: top;\n",
       "    }\n",
       "\n",
       "    .dataframe thead th {\n",
       "        text-align: right;\n",
       "    }\n",
       "</style>\n",
       "<table border=\"1\" class=\"dataframe\">\n",
       "  <thead>\n",
       "    <tr style=\"text-align: right;\">\n",
       "      <th></th>\n",
       "      <th>class</th>\n",
       "      <th>age_group</th>\n",
       "      <th>menopause</th>\n",
       "      <th>tumor-size</th>\n",
       "      <th>inv-nodes</th>\n",
       "      <th>deg-malig</th>\n",
       "      <th>breast</th>\n",
       "      <th>breast-quad</th>\n",
       "      <th>irradiat</th>\n",
       "    </tr>\n",
       "  </thead>\n",
       "  <tbody>\n",
       "    <tr>\n",
       "      <th>count</th>\n",
       "      <td>286.000000</td>\n",
       "      <td>286.000000</td>\n",
       "      <td>286.000000</td>\n",
       "      <td>286.000000</td>\n",
       "      <td>286.000000</td>\n",
       "      <td>286.000000</td>\n",
       "      <td>286.000000</td>\n",
       "      <td>286.000000</td>\n",
       "      <td>286.000000</td>\n",
       "    </tr>\n",
       "    <tr>\n",
       "      <th>mean</th>\n",
       "      <td>0.297203</td>\n",
       "      <td>2.908000</td>\n",
       "      <td>1.500000</td>\n",
       "      <td>5.881119</td>\n",
       "      <td>1.664336</td>\n",
       "      <td>2.048951</td>\n",
       "      <td>1.468531</td>\n",
       "      <td>2.335664</td>\n",
       "      <td>1.237762</td>\n",
       "    </tr>\n",
       "    <tr>\n",
       "      <th>std</th>\n",
       "      <td>0.457828</td>\n",
       "      <td>0.778852</td>\n",
       "      <td>0.547723</td>\n",
       "      <td>2.105930</td>\n",
       "      <td>1.272897</td>\n",
       "      <td>0.738217</td>\n",
       "      <td>0.499883</td>\n",
       "      <td>1.275651</td>\n",
       "      <td>0.426459</td>\n",
       "    </tr>\n",
       "    <tr>\n",
       "      <th>min</th>\n",
       "      <td>0.000000</td>\n",
       "      <td>1.000000</td>\n",
       "      <td>1.000000</td>\n",
       "      <td>1.000000</td>\n",
       "      <td>1.000000</td>\n",
       "      <td>1.000000</td>\n",
       "      <td>1.000000</td>\n",
       "      <td>0.000000</td>\n",
       "      <td>1.000000</td>\n",
       "    </tr>\n",
       "    <tr>\n",
       "      <th>25%</th>\n",
       "      <td>0.000000</td>\n",
       "      <td>2.000000</td>\n",
       "      <td>1.000000</td>\n",
       "      <td>5.000000</td>\n",
       "      <td>1.000000</td>\n",
       "      <td>2.000000</td>\n",
       "      <td>1.000000</td>\n",
       "      <td>1.000000</td>\n",
       "      <td>1.000000</td>\n",
       "    </tr>\n",
       "    <tr>\n",
       "      <th>50%</th>\n",
       "      <td>0.000000</td>\n",
       "      <td>3.000000</td>\n",
       "      <td>1.000000</td>\n",
       "      <td>6.000000</td>\n",
       "      <td>1.000000</td>\n",
       "      <td>2.000000</td>\n",
       "      <td>1.000000</td>\n",
       "      <td>2.000000</td>\n",
       "      <td>1.000000</td>\n",
       "    </tr>\n",
       "    <tr>\n",
       "      <th>75%</th>\n",
       "      <td>1.000000</td>\n",
       "      <td>3.000000</td>\n",
       "      <td>2.000000</td>\n",
       "      <td>7.000000</td>\n",
       "      <td>2.000000</td>\n",
       "      <td>3.000000</td>\n",
       "      <td>2.000000</td>\n",
       "      <td>3.000000</td>\n",
       "      <td>1.000000</td>\n",
       "    </tr>\n",
       "    <tr>\n",
       "      <th>max</th>\n",
       "      <td>1.000000</td>\n",
       "      <td>5.000000</td>\n",
       "      <td>3.000000</td>\n",
       "      <td>11.000000</td>\n",
       "      <td>7.000000</td>\n",
       "      <td>3.000000</td>\n",
       "      <td>2.000000</td>\n",
       "      <td>5.000000</td>\n",
       "      <td>2.000000</td>\n",
       "    </tr>\n",
       "  </tbody>\n",
       "</table>\n",
       "</div>"
      ],
      "text/plain": [
       "            class   age_group   menopause  tumor-size   inv-nodes   deg-malig  \\\n",
       "count  286.000000  286.000000  286.000000  286.000000  286.000000  286.000000   \n",
       "mean     0.297203    2.908000    1.500000    5.881119    1.664336    2.048951   \n",
       "std      0.457828    0.778852    0.547723    2.105930    1.272897    0.738217   \n",
       "min      0.000000    1.000000    1.000000    1.000000    1.000000    1.000000   \n",
       "25%      0.000000    2.000000    1.000000    5.000000    1.000000    2.000000   \n",
       "50%      0.000000    3.000000    1.000000    6.000000    1.000000    2.000000   \n",
       "75%      1.000000    3.000000    2.000000    7.000000    2.000000    3.000000   \n",
       "max      1.000000    5.000000    3.000000   11.000000    7.000000    3.000000   \n",
       "\n",
       "           breast  breast-quad    irradiat  \n",
       "count  286.000000   286.000000  286.000000  \n",
       "mean     1.468531     2.335664    1.237762  \n",
       "std      0.499883     1.275651    0.426459  \n",
       "min      1.000000     0.000000    1.000000  \n",
       "25%      1.000000     1.000000    1.000000  \n",
       "50%      1.000000     2.000000    1.000000  \n",
       "75%      2.000000     3.000000    1.000000  \n",
       "max      2.000000     5.000000    2.000000  "
      ]
     },
     "execution_count": 119,
     "metadata": {},
     "output_type": "execute_result"
    }
   ],
   "source": [
    "df.describe()"
   ]
  },
  {
   "cell_type": "code",
   "execution_count": 120,
   "id": "c7afd2bb",
   "metadata": {},
   "outputs": [
    {
     "data": {
      "text/plain": [
       "irradiat       1.000000\n",
       "inv-nodes      0.347912\n",
       "deg-malig      0.208099\n",
       "class          0.193912\n",
       "tumor-size     0.164418\n",
       "breast         0.018761\n",
       "age_group     -0.028142\n",
       "breast-quad   -0.037571\n",
       "menopause     -0.075108\n",
       "Name: irradiat, dtype: float64"
      ]
     },
     "execution_count": 120,
     "metadata": {},
     "output_type": "execute_result"
    }
   ],
   "source": [
    "cor = df.corr(method='pearson')\n",
    "cor = cor['irradiat'].sort_values(ascending=False)\n",
    "cor"
   ]
  },
  {
   "cell_type": "code",
   "execution_count": 121,
   "id": "02f09582",
   "metadata": {},
   "outputs": [],
   "source": [
    "X = df.drop(['irradiat'], axis=1)\n",
    "y=df[['irradiat']]"
   ]
  },
  {
   "cell_type": "code",
   "execution_count": 122,
   "id": "41724599",
   "metadata": {},
   "outputs": [],
   "source": [
    "from sklearn.model_selection import train_test_split\n",
    "X_train, X_test, y_train, y_test = train_test_split(X, y, stratify=y, test_size=0.3, random_state=0)"
   ]
  },
  {
   "cell_type": "code",
   "execution_count": 124,
   "id": "119f390b",
   "metadata": {},
   "outputs": [],
   "source": [
    "from sklearn.linear_model import LogisticRegression\n",
    "from sklearn.svm import SVC\n",
    "from sklearn.linear_model import SGDClassifier\n",
    "from sklearn.metrics import accuracy_score\n",
    "from sklearn.naive_bayes import GaussianNB\n",
    "from sklearn.neighbors import KNeighborsClassifier\n",
    "from sklearn.tree import DecisionTreeClassifier\n",
    "from sklearn.ensemble import ExtraTreesClassifier"
   ]
  },
  {
   "cell_type": "code",
   "execution_count": 125,
   "id": "ec56fc9e",
   "metadata": {},
   "outputs": [],
   "source": [
    "ext = ExtraTreesClassifier(n_estimators=100, random_state=0)\n",
    "dt = DecisionTreeClassifier(random_state=0)\n",
    "knn = KNeighborsClassifier(n_neighbors=3)\n",
    "gnb = GaussianNB()\n",
    "log =  LogisticRegression()\n",
    "svm = SVC()\n",
    "sgd = SGDClassifier()"
   ]
  },
  {
   "cell_type": "code",
   "execution_count": 126,
   "id": "636bf01e",
   "metadata": {},
   "outputs": [],
   "source": [
    "def classifiers(clf1, clf2, clf3, clf4, clf5, clf6, clf7, X_train, y_train):\n",
    "    clfs = [clf1, clf2, clf3, clf4, clf5, clf6, clf7]\n",
    "    all_clfs_acc = []\n",
    "    for clf in clfs:\n",
    "        \n",
    "        clf.fit(X_train, y_train)\n",
    "        preds = clf.predict(X_train)\n",
    "        acc = accuracy_score(y_train,preds)\n",
    "        acc = acc.tolist()\n",
    "        all_clfs_acc.append(acc)\n",
    "        \n",
    "    return all_clfs_acc"
   ]
  },
  {
   "cell_type": "code",
   "execution_count": 127,
   "id": "3b72fec2",
   "metadata": {},
   "outputs": [
    {
     "data": {
      "text/plain": [
       "[1.0, 1.0, 0.855, 0.77, 0.77, 0.785, 0.765]"
      ]
     },
     "execution_count": 127,
     "metadata": {},
     "output_type": "execute_result"
    }
   ],
   "source": [
    "classifiers(ext, dt, knn, gnb, log, svm, sgd, X_train, y_train)"
   ]
  },
  {
   "cell_type": "code",
   "execution_count": 128,
   "id": "f4af14ed",
   "metadata": {
    "scrolled": true
   },
   "outputs": [
    {
     "data": {
      "text/plain": [
       "VotingClassifier(estimators=[('log1', LogisticRegression()), ('svc1', SVC()),\n",
       "                             ('dt', DecisionTreeClassifier(random_state=0)),\n",
       "                             ('ext', ExtraTreesClassifier(random_state=0)),\n",
       "                             ('knn', KNeighborsClassifier(n_neighbors=3)),\n",
       "                             ('gnb', GaussianNB()), ('sgd', SGDClassifier())])"
      ]
     },
     "execution_count": 128,
     "metadata": {},
     "output_type": "execute_result"
    }
   ],
   "source": [
    "from sklearn.ensemble import VotingClassifier\n",
    "vot_classifier = VotingClassifier(estimators=[('log1', log), \n",
    "                                              ('svc1', svm),\n",
    "                                              ('dt', dt),\n",
    "                                              ('ext', ext),\n",
    "                                              ('knn',knn),\n",
    "                                              ('gnb',gnb),\n",
    "                                              ('sgd', sgd)],\n",
    "                                  voting='hard')\n",
    "vot_classifier.fit(X_train, y_train)"
   ]
  },
  {
   "cell_type": "code",
   "execution_count": null,
   "id": "0020c571",
   "metadata": {},
   "outputs": [],
   "source": []
  },
  {
   "cell_type": "code",
   "execution_count": 129,
   "id": "b80774da",
   "metadata": {},
   "outputs": [],
   "source": [
    "def classification_report(model, x_test, y_test, model_name):\n",
    "    print(f'----------------{model_name}----------------')\n",
    "    \n",
    "    y_pred = model.predict(x_test)\n",
    "    print('accuracy: ', accuracy_score(y_test, y_pred))\n",
    "    print('recall: ', recall_score(y_test, y_pred))\n",
    "    print('precision: ', precision_score(y_test, y_pred))\n",
    "    print('f1-score: ', f1_score(y_test, y_pred))\n",
    "\n",
    "    cm = confusion_matrix(y_test, y_pred)\n",
    "    \n",
    "    sns.heatmap(cm, annot=True, cmap='Blues')"
   ]
  },
  {
   "cell_type": "code",
   "execution_count": 130,
   "id": "42808125",
   "metadata": {
    "scrolled": true
   },
   "outputs": [
    {
     "name": "stdout",
     "output_type": "stream",
     "text": [
      "----------------rf----------------\n",
      "accuracy:  0.6627906976744186\n",
      "recall:  0.8333333333333334\n",
      "precision:  0.7534246575342466\n",
      "f1-score:  0.7913669064748201\n"
     ]
    },
    {
     "data": {
      "image/png": "[encoded data removed]",
      "text/plain": [
       "<Figure size 432x288 with 2 Axes>"
      ]
     },
     "metadata": {
      "needs_background": "light"
     },
     "output_type": "display_data"
    }
   ],
   "source": [
    "classification_report(vot_classifier, X_test, y_test,'rf')"
   ]
  },
  {
   "cell_type": "code",
   "execution_count": 134,
   "id": "a90d05bc",
   "metadata": {},
   "outputs": [
    {
     "name": "stdout",
     "output_type": "stream",
     "text": [
      "vot_classifier using voting:  {'fit_time': array([0.22814298, 0.24412274, 0.2452867 , 0.26060295, 0.29045773,\n",
      "       0.27593303, 0.28482032, 0.27246308, 0.27906728, 0.29101133]), 'score_time': array([0.03202343, 0.02898598, 0.03099394, 0.04640365, 0.02929401,\n",
      "       0.03256083, 0.03740644, 0.03955269, 0.02880692, 0.03840232]), 'test_accuracy': array([0.79310345, 0.75862069, 0.75862069, 0.79310345, 0.79310345,\n",
      "       0.79310345, 0.53571429, 0.78571429, 0.5       , 0.39285714]), 'test_precision': array([0.78571429, 0.75862069, 0.75862069, 0.78571429, 0.78571429,\n",
      "       0.78571429, 0.8       , 0.78571429, 0.73333333, 0.64285714]), 'test_recall': array([1.        , 1.        , 1.        , 1.        , 1.        ,\n",
      "       1.        , 0.54545455, 1.        , 0.52380952, 0.42857143])}\n"
     ]
    }
   ],
   "source": [
    "from sklearn.model_selection import cross_validate\n",
    "vot_classifier = cross_validate(vot_classifier, X, y, cv=10, scoring=['accuracy','precision','recall'])\n",
    "print('vot_classifier using voting: ', vot_classifier)"
   ]
  },
  {
   "cell_type": "code",
   "execution_count": 139,
   "id": "ce8c4c4f",
   "metadata": {},
   "outputs": [
    {
     "name": "stdout",
     "output_type": "stream",
     "text": [
      "vot_classifier test_accuracy:  0.6903940886699508\n",
      "vot_classifier test_precision:  0.7622003284072251\n",
      "vot_classifier test_recall:  0.8497835497835498\n"
     ]
    }
   ],
   "source": [
    "print('vot_classifier test_accuracy: ', vot_classifier['test_accuracy'].mean())\n",
    "print('vot_classifier test_precision: ', vot_classifier['test_precision'].mean())\n",
    "print('vot_classifier test_recall: ', vot_classifier['test_recall'].mean())"
   ]
  }
 ],
 "metadata": {
  "kernelspec": {
   "display_name": "Python 3 (ipykernel)",
   "language": "python",
   "name": "python3"
  },
  "language_info": {
   "codemirror_mode": {
    "name": "ipython",
    "version": 3
   },
   "file_extension": ".py",
   "mimetype": "text/x-python",
   "name": "python",
   "nbconvert_exporter": "python",
   "pygments_lexer": "ipython3",
   "version": "3.9.12"
  }
 },
 "nbformat": 4,
 "nbformat_minor": 5
}
